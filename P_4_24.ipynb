{
  "nbformat": 4,
  "nbformat_minor": 0,
  "metadata": {
    "colab": {
      "provenance": []
    },
    "kernelspec": {
      "name": "python3",
      "display_name": "Python 3"
    },
    "language_info": {
      "name": "python"
    }
  },
  "cells": [
    {
      "cell_type": "code",
      "source": [
        "from itertools import permutations\n",
        "\n",
        "def solve_summation_puzzle(puzzle_string):\n",
        "    words = puzzle_string.split()\n",
        "    word1 = words[0]\n",
        "    word2 = words[2]\n",
        "    word3 = words[4]\n",
        "\n",
        "    letters = set(list(word1) + list(word2) + list(word3))\n",
        "    if len(letters) > 10:\n",
        "        return None\n",
        "\n",
        "    for permutation in permutations(range(10), len(letters)):\n",
        "        letter_to_digit = dict(zip(letters, permutation))\n",
        "\n",
        "        num1 = int(\"\".join([str(letter_to_digit[letter]) for letter in word1]))\n",
        "        num2 = int(\"\".join([str(letter_to_digit[letter]) for letter in word2]))\n",
        "        num3 = int(\"\".join([str(letter_to_digit[letter]) for letter in word3]))\n",
        "\n",
        "        if num1 + num2 == num3:\n",
        "            result = {\n",
        "                'solution': letter_to_digit,\n",
        "                'original_numbers': (num1, num2, num3)\n",
        "            }\n",
        "            return result\n",
        "\n",
        "    return None\n",
        "\n",
        "puzzle1 = \"pot + pan = bib\"\n",
        "solution1 = solve_summation_puzzle(puzzle1)\n",
        "\n",
        "if solution1:\n",
        "    print(\"Solution found for puzzle 1:\")\n",
        "    print(f\"{solution1['original_numbers'][0]} + {solution1['original_numbers'][1]} = {solution1['original_numbers'][2]}\")\n",
        "    for letter, digit in solution1['solution'].items():\n",
        "        print(f\"{letter} = {digit}\")\n",
        "else:\n",
        "    print(\"No solution found for puzzle 1.\")"
      ],
      "metadata": {
        "colab": {
          "base_uri": "https://localhost:8080/"
        },
        "id": "OV70JtQ6juVd",
        "outputId": "e2b90c1c-5254-4a36-afb5-7cff7cc7e3f6"
      },
      "execution_count": 37,
      "outputs": [
        {
          "output_type": "stream",
          "name": "stdout",
          "text": [
            "Solution found for puzzle 1:\n",
            "315 + 392 = 707\n",
            "i = 0\n",
            "o = 1\n",
            "n = 2\n",
            "a = 9\n",
            "p = 3\n",
            "b = 7\n",
            "t = 5\n"
          ]
        }
      ]
    },
    {
      "cell_type": "code",
      "source": [
        "puzzle2 = \"dog + cat = pig\"\n",
        "solution2 = solve_summation_puzzle(puzzle2)\n",
        "\n",
        "if solution2:\n",
        "    print(\"Solution found for puzzle 2:\")\n",
        "    print(f\"{solution2['original_numbers'][0]} + {solution2['original_numbers'][1]} = {solution2['original_numbers'][2]}\")\n",
        "    for letter, digit in solution2['solution'].items():\n",
        "        print(f\"{letter} = {digit}\")\n",
        "else:\n",
        "    print(\"No solution found for puzzle 2.\")"
      ],
      "metadata": {
        "colab": {
          "base_uri": "https://localhost:8080/"
        },
        "id": "gPUR5BHFgWUg",
        "outputId": "14181a39-77e2-41c2-8863-564087b44bb5"
      },
      "execution_count": 35,
      "outputs": [
        {
          "output_type": "stream",
          "name": "stdout",
          "text": [
            "Solution found for puzzle 2:\n",
            "425 + 390 = 815\n",
            "i = 1\n",
            "o = 2\n",
            "c = 3\n",
            "d = 4\n",
            "a = 9\n",
            "p = 8\n",
            "t = 0\n",
            "g = 5\n"
          ]
        }
      ]
    },
    {
      "cell_type": "code",
      "source": [
        "puzzle3 = \"boy + girl = baby\"\n",
        "solution3 = solve_summation_puzzle(puzzle3)\n",
        "\n",
        "if solution3:\n",
        "    print(\"Solution found for puzzle 3:\")\n",
        "    print(f\"{solution3['original_numbers'][0]} + {solution3['original_numbers'][1]} = {solution3['original_numbers'][2]}\")\n",
        "    for letter, digit in solution3['solution'].items():\n",
        "        print(f\"{letter} = {digit}\")\n",
        "else:\n",
        "    print(\"No solution found for puzzle 3.\")"
      ],
      "metadata": {
        "colab": {
          "base_uri": "https://localhost:8080/"
        },
        "id": "xhMo0g5uhW1_",
        "outputId": "78fcbaae-c072-4e85-f654-9b2d70394fd9"
      },
      "execution_count": 36,
      "outputs": [
        {
          "output_type": "stream",
          "name": "stdout",
          "text": [
            "Solution found for puzzle 3:\n",
            "934 + 8260 = 9194\n",
            "i = 2\n",
            "o = 3\n",
            "r = 6\n",
            "l = 0\n",
            "a = 1\n",
            "y = 4\n",
            "b = 9\n",
            "g = 8\n"
          ]
        }
      ]
    }
  ]
}