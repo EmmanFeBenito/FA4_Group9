{
  "nbformat": 4,
  "nbformat_minor": 0,
  "metadata": {
    "colab": {
      "provenance": []
    },
    "kernelspec": {
      "name": "python3",
      "display_name": "Python 3"
    },
    "language_info": {
      "name": "python"
    }
  },
  "cells": [
    {
      "cell_type": "code",
      "execution_count": 1,
      "metadata": {
        "colab": {
          "base_uri": "https://localhost:8080/"
        },
        "id": "bIuEOhodhQ4f",
        "outputId": "aa12c54c-dce1-4d2a-f5ca-b8179cf67da2"
      },
      "outputs": [
        {
          "output_type": "stream",
          "name": "stdout",
          "text": [
            "Move disk 1 from A to B\n",
            "Move disk 2 from A to C\n",
            "Move disk 1 from B to C\n",
            "Move disk 3 from A to B\n",
            "Move disk 1 from C to A\n",
            "Move disk 2 from C to B\n",
            "Move disk 1 from A to B\n",
            "Move disk 4 from A to C\n",
            "Move disk 1 from B to C\n",
            "Move disk 2 from B to A\n",
            "Move disk 1 from C to A\n",
            "Move disk 3 from B to C\n",
            "Move disk 1 from A to B\n",
            "Move disk 2 from A to C\n",
            "Move disk 1 from B to C\n"
          ]
        }
      ],
      "source": [
        "def tower_of_hanoi(n, source, destination, auxiliary):\n",
        "    if n == 1:\n",
        "        print(f\"Move disk 1 from {source} to {destination}\")\n",
        "        return\n",
        "\n",
        "    tower_of_hanoi(n-1, source, auxiliary, destination)\n",
        "\n",
        "    print(f\"Move disk {n} from {source} to {destination}\")\n",
        "\n",
        "    tower_of_hanoi(n-1, auxiliary, destination, source)\n",
        "\n",
        "n = 4\n",
        "\n",
        "tower_of_hanoi(n, 'A', 'C', 'B')"
      ]
    }
  ]
}